{
 "cells": [
  {
   "cell_type": "code",
   "execution_count": 1,
   "metadata": {},
   "outputs": [
    {
     "name": "stderr",
     "output_type": "stream",
     "text": [
      "Using TensorFlow backend.\n"
     ]
    },
    {
     "name": "stdout",
     "output_type": "stream",
     "text": [
      "(9180, 4, 540)\n",
      "Train Data shape: (7344, 1, 4, 540)\n",
      "WARNING:tensorflow:From C:\\Users\\Jack\\venv\\lib\\site-packages\\tensorflow\\python\\framework\\op_def_library.py:263: colocate_with (from tensorflow.python.framework.ops) is deprecated and will be removed in a future version.\n",
      "Instructions for updating:\n",
      "Colocations handled automatically by placer.\n",
      "Encoded shape: (?, 32, 1, 135)\n",
      "Decoded shape: (?, 1, 4, 540)\n",
      "_________________________________________________________________\n",
      "Layer (type)                 Output Shape              Param #   \n",
      "=================================================================\n",
      "input_1 (InputLayer)         (None, 1, 4, 540)         0         \n",
      "_________________________________________________________________\n",
      "conv2d_1 (Conv2D)            (None, 64, 4, 540)        320       \n",
      "_________________________________________________________________\n",
      "max_pooling2d_1 (MaxPooling2 (None, 64, 2, 270)        0         \n",
      "_________________________________________________________________\n",
      "conv2d_2 (Conv2D)            (None, 32, 2, 270)        8224      \n",
      "_________________________________________________________________\n",
      "max_pooling2d_2 (MaxPooling2 (None, 32, 1, 135)        0         \n",
      "_________________________________________________________________\n",
      "conv2d_3 (Conv2D)            (None, 32, 1, 135)        4128      \n",
      "_________________________________________________________________\n",
      "up_sampling2d_1 (UpSampling2 (None, 32, 2, 270)        0         \n",
      "_________________________________________________________________\n",
      "conv2d_4 (Conv2D)            (None, 64, 2, 270)        8256      \n",
      "_________________________________________________________________\n",
      "up_sampling2d_2 (UpSampling2 (None, 64, 4, 540)        0         \n",
      "_________________________________________________________________\n",
      "conv2d_5 (Conv2D)            (None, 1, 4, 540)         1601      \n",
      "=================================================================\n",
      "Total params: 22,529\n",
      "Trainable params: 22,529\n",
      "Non-trainable params: 0\n",
      "_________________________________________________________________\n",
      "None\n",
      "WARNING:tensorflow:From C:\\Users\\Jack\\venv\\lib\\site-packages\\tensorflow\\python\\ops\\math_ops.py:3066: to_int32 (from tensorflow.python.ops.math_ops) is deprecated and will be removed in a future version.\n",
      "Instructions for updating:\n",
      "Use tf.cast instead.\n",
      "Train on 7344 samples, validate on 1836 samples\n",
      "Epoch 1/1\n",
      "7344/7344 [==============================] - 15s 2ms/step - loss: 0.6092 - mean_squared_error: 0.0978 - acc: 0.0423 - val_loss: 0.5497 - val_mean_squared_error: 0.0707 - val_acc: 0.0424\n",
      "Model fitting complete\n"
     ]
    }
   ],
   "source": [
    "import scipy.io as sio\n",
    "import numpy as np\n",
    "\n",
    "from keras.layers import Input, Conv2D, MaxPooling2D, UpSampling2D, BatchNormalization, Flatten\n",
    "from keras.models import Model\n",
    "from keras.callbacks import EarlyStopping\n",
    "from sklearn.model_selection import train_test_split\n",
    "\n",
    "import matplotlib.pyplot as plt\n",
    "\n",
    "mat_contents = sio.loadmat('4chanEMG.mat')\n",
    "mat_data = mat_contents['signalArr']\n",
    "mat_data = mat_data[:, :, 0:540]\n",
    "print(mat_data.shape)\n",
    "# print(mat_data[0])\n",
    "mat_labels = mat_contents['signalLabel']\n",
    "mat_labels -= 1\n",
    "\n",
    "# ae = AutoEncoder(encoding_dim=135, input_data=mat_data, batch_size=32, epochs=300)\n",
    "# ae.encoder_decoder()\n",
    "# ae.fit()\n",
    "\n",
    "train_data, test_data = train_test_split(mat_data, test_size=0.2, shuffle=True)\n",
    "train_data = np.reshape(train_data, (len(train_data), 1, 4, 540))\n",
    "test_data = np.reshape(test_data, (len(test_data), 1, 4, 540))\n",
    "print(\"Train Data shape:\", train_data.shape)\n",
    "\n",
    "input_arr = Input(shape=(1, 4, 540))\n",
    "batch_size = 32\n",
    "\n",
    "# Encoder section\n",
    "x = Conv2D(filters=64, kernel_size=(2, 2), activation='relu', padding='same', data_format='channels_first')(input_arr)\n",
    "# x = BatchNormalization()(x) -> figure out how to add batch normalisation\n",
    "# 64x2x270\n",
    "x = MaxPooling2D((2, 2), padding='same', data_format='channels_first')(x)\n",
    "x = Conv2D(filters=32, kernel_size=(2, 2), activation='relu', padding='same', data_format='channels_first')(x)\n",
    "# x = BatchNormalization()(x) -> figure out how to add batch normalisation\n",
    "# 32x1x135\n",
    "encoded = MaxPooling2D((2, 2), padding='same', data_format='channels_first')(x)\n",
    "# 1x1x135 -> ADD THIS BIT\n",
    "print(\"Encoded shape:\", encoded.shape)\n",
    "\n",
    "# Decoder section\n",
    "x = Conv2D(filters=32, kernel_size=(2, 2), activation='relu', padding='same', data_format='channels_first')(encoded)\n",
    "# 32x2x270\n",
    "x = UpSampling2D((2, 2), data_format='channels_first')(x)\n",
    "x = Conv2D(filters=64, kernel_size=(2, 2), activation='relu', padding='same', data_format='channels_first')(x)\n",
    "# 64x4x540\n",
    "x = UpSampling2D((2, 2), data_format='channels_first')(x)\n",
    "# 1x4x540\n",
    "decoded = Conv2D(filters=1, kernel_size=(5, 5), activation='sigmoid', padding='same', data_format='channels_first')(x)\n",
    "\n",
    "print(\"Decoded shape:\", decoded.shape)\n",
    "\n",
    "# Arguments are inputs and output\n",
    "auto_encoder = Model(input_arr, decoded)\n",
    "print(auto_encoder.summary())\n",
    "auto_encoder.compile(optimizer='sgd', loss='binary_crossentropy', metrics=['mse', 'accuracy'])\n",
    "early_stop = EarlyStopping(monitor='val_loss', patience=15)\n",
    "ae = auto_encoder.fit(train_data, train_data,\n",
    "                      epochs=1,\n",
    "                      batch_size=batch_size,\n",
    "                      validation_data=(test_data, test_data),\n",
    "                      verbose=1,\n",
    "                      callbacks=[early_stop])\n",
    "\n",
    "print(\"Model fitting complete\")\n",
    "# test_loss, test_acc = auto_encoder.evaluate(test_data, test_data)\n",
    "# print(\"Test accuracy:\", test_acc)\n",
    "\n",
    "prediction = auto_encoder.predict(test_data)"
   ]
  },
  {
   "cell_type": "code",
   "execution_count": 14,
   "metadata": {},
   "outputs": [
    {
     "name": "stdout",
     "output_type": "stream",
     "text": [
      "(1836, 1, 4, 540)\n"
     ]
    },
    {
     "data": {
      "image/png": "[encoded data removed]",
      "text/plain": [
       "<Figure size 432x288 with 1 Axes>"
      ]
     },
     "metadata": {
      "needs_background": "light"
     },
     "output_type": "display_data"
    },
    {
     "data": {
      "image/png": "[encoded data removed]",
      "text/plain": [
       "<Figure size 432x288 with 1 Axes>"
      ]
     },
     "metadata": {
      "needs_background": "light"
     },
     "output_type": "display_data"
    }
   ],
   "source": [
    "print(prediction.shape)\n",
    "\n",
    "length = len(test_data)\n",
    "mse = np.empty(shape=(length, 4))\n",
    "for i in range(length):\n",
    "    mse[i, :] = np.mean(np.power(test_data[i, 0, :, :] - prediction[i, 0, :, :], 2), axis=1)\n",
    "\n",
    "np.savetxt(\"ae_mse.txt\", mse)\n",
    "\n",
    "plt.plot(ae.history['loss'])\n",
    "plt.plot(ae.history['val_loss'])\n",
    "plt.title('Model Loss')\n",
    "plt.ylabel('Loss')\n",
    "plt.xlabel('Epoch')\n",
    "plt.legend(['Train', 'Test'], loc='upper right')\n",
    "plt.show()\n",
    "\n",
    "plt.plot(ae.history['acc'])\n",
    "plt.plot(ae.history['val_acc'])\n",
    "plt.ylabel('Accuracy')\n",
    "plt.xlabel('Epoch')\n",
    "plt.title('Model accuracy')\n",
    "plt.legend(['Train', 'Test'], loc='upper right')\n",
    "plt.show()\n",
    "\n",
    "# f = open(\"ae_results.txt\", \"w+\")\n",
    "# f.write(\"Test accuracy: %d \\r\\n\" % test_acc)\n",
    "# f.write(\"Test loss: %d \\r\\n\\n\" % test_loss)\n",
    "# f.close()\n",
    "#\n",
    "# np.savetxt(\"ae_test.txt\", test_data[10, 0, :, :])\n",
    "# np.savetxt(\"ae_predict.txt\", prediction[10, 0, :, :])"
   ]
  },
  {
   "cell_type": "code",
   "execution_count": null,
   "metadata": {},
   "outputs": [],
   "source": []
  }
 ],
 "metadata": {
  "kernelspec": {
   "display_name": "gpu",
   "language": "python",
   "name": "gpu"
  },
  "language_info": {
   "codemirror_mode": {
    "name": "ipython",
    "version": 3
   },
   "file_extension": ".py",
   "mimetype": "text/x-python",
   "name": "python",
   "nbconvert_exporter": "python",
   "pygments_lexer": "ipython3",
   "version": "3.7.2"
  }
 },
 "nbformat": 4,
 "nbformat_minor": 2
}
