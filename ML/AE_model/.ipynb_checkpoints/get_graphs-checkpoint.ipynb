{
 "cells": [
  {
   "cell_type": "code",
   "execution_count": null,
   "metadata": {},
   "outputs": [],
   "source": [
    "# from keras.layers import Input, Conv2D, MaxPooling2D, UpSampling2D, BatchNormalization, Flatten\n",
    "# from keras.models import Model\n",
    "# from keras.callbacks import EarlyStopping\n",
    "\n",
    "import scipy.io as sio\n",
    "import numpy as np\n",
    "import keras\n",
    "from sklearn.model_selection import train_test_split\n",
    "from keras.layers import Dropout, BatchNormalization, Flatten, Dense, Input, Conv1D\n",
    "from keras.layers.convolutional import Conv2D, MaxPooling2D\n",
    "from keras.models import Model\n",
    "from keras.callbacks import EarlyStopping\n",
    "import matplotlib.pyplot as plt\n",
    "\n",
    "import csv\n",
    "split_step = 50\n",
    "num_sensors = 2"
   ]
  },
  {
   "cell_type": "code",
   "execution_count": null,
   "metadata": {},
   "outputs": [],
   "source": [
    "\n",
    "wrist_none_data_raw = np.concatenate((np.genfromtxt ('../EMG_data/ife_wrist_none.csv', delimiter=\",\"), np.genfromtxt ('../EMG_data/ife_wrist_none_0.csv', delimiter=\",\")), axis=0 )\n",
    "\n",
    "wrist_none_data = np.zeros( (2, int(wrist_none_data_raw.shape[0]/2), int(1000/split_step) ) )\n",
    "\n",
    "for i in range(0, wrist_none_data_raw.shape[0]):\n",
    "    wrist_none_data[i%2][int((i-i%2)/2)] = wrist_none_data_raw[i][0:1000:split_step]\n",
    "\n",
    "wrist_none_data = wrist_none_data.reshape(wrist_none_data.shape[1],wrist_none_data.shape[0], int(1000/split_step))\n",
    "# print(wrist_none_data.shape)\n",
    "# ---------------------------------------------------------------------------------#\n",
    "clench_data_raw = np.concatenate((np.genfromtxt ('../EMG_data/ife_clench.csv', delimiter=\",\"),np.genfromtxt ('../EMG_data/ife_clench_0.csv', delimiter=\",\")),axis=0)\n",
    "clench_data = np.zeros( (2, int(clench_data_raw.shape[0]/2), int(1000/split_step) ) )\n",
    "\n",
    "for i in range(0, clench_data_raw.shape[0]):\n",
    "    clench_data[i%2][int((i-i%2)/2)] = clench_data_raw[i][0:1000:split_step]\n",
    "\n",
    "clench_data = clench_data.reshape(clench_data.shape[1],clench_data.shape[0], int(1000/split_step))\n",
    "# print(clench_data.shape)\n",
    "# ---------------------------------------------------------------------------------#\n",
    "wrist_in_data_raw = np.concatenate((np.genfromtxt ('../EMG_data/ife_wrist_in.csv', delimiter=\",\"),np.genfromtxt ('../EMG_data/ife_wrist_in_0.csv', delimiter=\",\")),axis=0)\n",
    "wrist_in_data = np.zeros( (2, int(wrist_in_data_raw.shape[0]/2), int(1000/split_step) ) )\n",
    "\n",
    "# print(wrist_in_data_raw.shape, wrist_in_data.shape)\n",
    "\n",
    "for i in range(0, wrist_in_data_raw.shape[0]):\n",
    "    wrist_in_data[i%2][int((i-i%2)/2)] = wrist_in_data_raw[i][0:1000:split_step]\n",
    "\n",
    "wrist_in_data = wrist_in_data.reshape(wrist_in_data.shape[1],wrist_in_data.shape[0], int(1000/split_step))\n",
    "# print(wrist_in_data.shape)\n",
    "\n",
    "# ---------------------------------------------------------------------------------#\n",
    "wrist_out_data_raw = np.concatenate((np.genfromtxt ('../EMG_data/ife_wrist_out.csv', delimiter=\",\"),np.genfromtxt ('../EMG_data/ife_wrist_out_0.csv', delimiter=\",\")),axis=0)\n",
    "wrist_out_data = np.zeros( (2, int(wrist_out_data_raw.shape[0]/2), int(1000/split_step) ) )\n",
    "\n",
    "# print(wrist_out_data_raw.shape, wrist_out_data.shape)\n",
    "\n",
    "for i in range(0, wrist_out_data_raw.shape[0]):\n",
    "    wrist_out_data[i%2][int((i-i%2)/2)] = wrist_out_data_raw[i][0:1000:split_step]\n",
    "\n",
    "wrist_out_data = wrist_out_data.reshape(wrist_out_data.shape[1],wrist_out_data.shape[0], int(1000/split_step))\n",
    "# print(wrist_out_data.shape)\n",
    "\n",
    "#-------------------------------FORMAT--DATA--FOR-TRAINING-------------------------------------#\n",
    "\n",
    "X_data_raw = np.concatenate((wrist_none_data, wrist_in_data, wrist_out_data, clench_data), axis=0)\n",
    "y_data_raw = np.concatenate( ( np.full((wrist_none_data.shape[0]), 0), np.full((wrist_in_data.shape[0]), 1), np.full((wrist_out_data.shape[0]), 2), np.full((clench_data.shape[0]), 3)), axis=0)\n",
    "\n",
    "print('Training data shape:', X_data_raw.shape)\n",
    "\n",
    "# X_train, X_test, y_train, y_test = train_test_split(X_data_raw, y_data_raw, test_size=0.20, random_state=42)"
   ]
  }
 ],
 "metadata": {
  "kernelspec": {
   "display_name": "gpu",
   "language": "python",
   "name": "gpu"
  },
  "language_info": {
   "codemirror_mode": {
    "name": "ipython",
    "version": 3
   },
   "file_extension": ".py",
   "mimetype": "text/x-python",
   "name": "python",
   "nbconvert_exporter": "python",
   "pygments_lexer": "ipython3",
   "version": "3.7.2"
  }
 },
 "nbformat": 4,
 "nbformat_minor": 2
}
