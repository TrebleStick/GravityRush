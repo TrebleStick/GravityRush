{
 "cells": [
  {
   "cell_type": "code",
   "execution_count": 82,
   "metadata": {},
   "outputs": [],
   "source": [
    "import scipy.io as sio\n",
    "import numpy as np\n",
    "\n",
    "from keras.layers import Input, Conv2D, MaxPooling2D, UpSampling2D, BatchNormalization, Flatten\n",
    "from keras.models import Model\n",
    "from keras.callbacks import EarlyStopping\n",
    "from sklearn.model_selection import train_test_split\n",
    "\n",
    "import matplotlib.pyplot as plt\n",
    "import csv\n",
    "\n",
    "num_sensors = 2"
   ]
  },
  {
   "cell_type": "code",
   "execution_count": 96,
   "metadata": {},
   "outputs": [
    {
     "name": "stdout",
     "output_type": "stream",
     "text": [
      "(57, 2, 1000)\n",
      "(54, 2, 1000)\n",
      "(55, 2, 1000)\n",
      "(57, 2, 1000)\n"
     ]
    }
   ],
   "source": [
    "wrist_none_data_raw = np.genfromtxt ('../EMG_data/ife_wrist_none.csv', delimiter=\",\")\n",
    "wrist_none_data = np.zeros( (2, int(wrist_none_data_raw.shape[0]/2), 1000 ) )\n",
    "\n",
    "for i in range(0, wrist_none_data_raw.shape[0]):\n",
    "    wrist_none_data[i%2][int((i-i%2)/2)] = wrist_none_data_raw[i][0:1000]\n",
    "\n",
    "wrist_none_data = wrist_none_data.reshape(wrist_none_data.shape[1],wrist_none_data.shape[0], 1000)\n",
    "print(wrist_none_data.shape)\n",
    "# ---------------------------------------------------------------------------------#\n",
    "clench_data_raw = np.genfromtxt ('../EMG_data/ife_clench.csv', delimiter=\",\")\n",
    "clench_data = np.zeros( (2, int(clench_data_raw.shape[0]/2), 1000 ) )\n",
    "\n",
    "for i in range(0, clench_data_raw.shape[0]):\n",
    "    clench_data[i%2][int((i-i%2)/2)] = clench_data_raw[i][0:1000]\n",
    "\n",
    "clench_data = clench_data.reshape(clench_data.shape[1],clench_data.shape[0], 1000)\n",
    "print(clench_data.shape)\n",
    "# ---------------------------------------------------------------------------------#\n",
    "wrist_in_data_raw = np.genfromtxt ('../EMG_data/ife_wrist_in.csv', delimiter=\",\")\n",
    "wrist_in_data = np.zeros( (2, int(wrist_in_data_raw.shape[0]/2), 1000 ) )\n",
    "\n",
    "for i in range(0, wrist_in_data_raw.shape[0]):\n",
    "    wrist_in_data[i%2][int((i-i%2)/2)] = wrist_in_data_raw[i][0:1000]\n",
    "\n",
    "wrist_in_data = wrist_in_data.reshape(wrist_in_data.shape[1],wrist_in_data.shape[0], 1000)\n",
    "print(wrist_in_data.shape)\n",
    "# ---------------------------------------------------------------------------------#\n",
    "wrist_out_data_raw = np.genfromtxt ('../EMG_data/ife_wrist_out.csv', delimiter=\",\")\n",
    "wrist_out_data = np.zeros( (2, int(wrist_out_data_raw.shape[0]/2), 1000 ) )\n",
    "\n",
    "for i in range(0, wrist_in_data_raw.shape[0]):\n",
    "    wrist_out_data[i%2][int((i-i%2)/2)] = wrist_out_data_raw[i][0:1000]\n",
    "\n",
    "wrist_out_data = wrist_out_data.reshape(wrist_out_data.shape[1],wrist_out_data.shape[0], 1000)\n",
    "print(wrist_out_data.shape)\n"
   ]
  },
  {
   "cell_type": "code",
   "execution_count": 109,
   "metadata": {},
   "outputs": [],
   "source": [
    "X_data_raw = np.concatenate((wrist_none_data, wrist_in_data, wrist_out_data, clench_data), axis=0)\n",
    "y_data_raw = np.concatenate( ( np.full((wrist_none_data.shape[0]), 0), np.full((wrist_in_data.shape[0]), 1), np.full((wrist_out_data.shape[0]), 2), np.full((clench_data.shape[0]), 3)), axis=0)"
   ]
  },
  {
   "cell_type": "code",
   "execution_count": 110,
   "metadata": {},
   "outputs": [],
   "source": [
    "X_train, X_test, y_train, y_test = train_test_split(\n",
    "...     X_data_raw, y_data_raw, test_size=0.20, random_state=42)"
   ]
  }
 ],
 "metadata": {
  "kernelspec": {
   "display_name": "gpu",
   "language": "python",
   "name": "gpu"
  },
  "language_info": {
   "codemirror_mode": {
    "name": "ipython",
    "version": 3
   },
   "file_extension": ".py",
   "mimetype": "text/x-python",
   "name": "python",
   "nbconvert_exporter": "python",
   "pygments_lexer": "ipython3",
   "version": "3.7.2"
  }
 },
 "nbformat": 4,
 "nbformat_minor": 2
}
